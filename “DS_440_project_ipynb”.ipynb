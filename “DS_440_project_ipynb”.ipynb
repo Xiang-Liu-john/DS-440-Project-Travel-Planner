{
  "nbformat": 4,
  "nbformat_minor": 0,
  "metadata": {
    "colab": {
      "provenance": []
    },
    "kernelspec": {
      "name": "python3",
      "display_name": "Python 3"
    },
    "language_info": {
      "name": "python"
    }
  },
  "cells": [
    {
      "cell_type": "markdown",
      "source": [
        "# Wander Wise - AI Trip Planner"
      ],
      "metadata": {
        "id": "wBX_s0Q1szxm"
      }
    },
    {
      "cell_type": "markdown",
      "source": [
        "**User input：**"
      ],
      "metadata": {
        "id": "G_WEkgjhpNMb"
      }
    },
    {
      "cell_type": "code",
      "source": [
        "location = \"Manhattan, New York, NY\"\n",
        "budget = \"1000 USD\"\n",
        "days = \"5 days\"\n",
        "interests = \"Chinese restaurant\""
      ],
      "metadata": {
        "id": "V9Diz2wRJ_RC"
      },
      "execution_count": null,
      "outputs": []
    },
    {
      "cell_type": "markdown",
      "source": [
        "**Install necessary libraries:**"
      ],
      "metadata": {
        "id": "maBDSv6bpSk5"
      }
    },
    {
      "cell_type": "code",
      "source": [
        "pip install requests"
      ],
      "metadata": {
        "id": "rwUwDkfP8yo7"
      },
      "execution_count": null,
      "outputs": []
    },
    {
      "cell_type": "code",
      "source": [
        "pip install openai==0.28.0"
      ],
      "metadata": {
        "id": "iAdoPvOYNqor"
      },
      "execution_count": null,
      "outputs": []
    },
    {
      "cell_type": "code",
      "source": [
        "!pip install requests folium\n",
        "import requests\n",
        "import folium\n",
        "from folium.plugins import MarkerCluster"
      ],
      "metadata": {
        "id": "CQWqInRcNAfr"
      },
      "execution_count": null,
      "outputs": []
    },
    {
      "cell_type": "markdown",
      "source": [
        "**Return places from Yelp based on inputs**"
      ],
      "metadata": {
        "id": "IENznOj9pY-g"
      }
    },
    {
      "cell_type": "markdown",
      "source": [
        "Option 1 code:"
      ],
      "metadata": {
        "id": "vU1PYaw0pfVg"
      }
    },
    {
      "cell_type": "code",
      "source": [
        "def get_top_places_from_yelp(location, interests, total_limit=10):\n",
        "    url = \"https://api.yelp.com/v3/businesses/search\"\n",
        "    headers = {\n",
        "        \"Authorization\": \"...\"\n",
        "    }\n",
        "\n",
        "    review_threshold = 50\n",
        "\n",
        "    places = set()\n",
        "\n",
        "    def fetch_places(term, limit):\n",
        "        params = {\"term\": term, \"location\": location, \"limit\": limit}\n",
        "        response = requests.get(url, headers=headers, params=params)\n",
        "        data = response.json()\n",
        "\n",
        "        if 'businesses' in data:\n",
        "            for b in data['businesses']:\n",
        "                if b.get('review_count', 0) >= review_threshold:\n",
        "                    place = f\"{b['name']} ({', '.join(b['location']['display_address'])})\"\n",
        "                    places.add(place)\n",
        "                    if len(places) >= total_limit:\n",
        "                        return\n",
        "\n",
        "    for interest in interests:\n",
        "        fetch_places(interest, 2)\n",
        "\n",
        "    general_limit = total_limit - len(places)\n",
        "    if general_limit > 0:\n",
        "        fetch_places(\"tourist attractions\", general_limit)\n",
        "\n",
        "    return list(places)[:total_limit]\n"
      ],
      "metadata": {
        "id": "hUbC54Zf85DS"
      },
      "execution_count": null,
      "outputs": []
    },
    {
      "cell_type": "markdown",
      "source": [
        "Option 2 code"
      ],
      "metadata": {
        "id": "XJVE6AigpiBT"
      }
    },
    {
      "cell_type": "code",
      "source": [
        "import requests\n",
        "\n",
        "def get_top_places_from_yelp(location, interests, total_limit=10):\n",
        "    url = \"https://api.yelp.com/v3/businesses/search\"\n",
        "    headers = {\n",
        "        \"Authorization\": \"...\"\n",
        "    }\n",
        "\n",
        "    review_threshold = 30  # Review threshold\n",
        "\n",
        "    places = set()\n",
        "\n",
        "    def fetch_places(term, limit):\n",
        "        params = {\"term\": term, \"location\": location, \"limit\": limit}\n",
        "        response = requests.get(url, headers=headers, params=params)\n",
        "        data = response.json()\n",
        "\n",
        "        if 'businesses' in data:\n",
        "            for b in data['businesses']:\n",
        "                if b.get('review_count', 0) >= review_threshold:\n",
        "                    if location.lower() in b['location']['address1'].lower():  # Refined location check\n",
        "                        place = f\"{b['name']} ({', '.join(b['location']['display_address'])})\"\n",
        "                        places.add(place)\n",
        "                        if len(places) >= total_limit:\n",
        "                            return\n",
        "\n",
        "    for interest in interests:\n",
        "        fetch_places(interest, 1)\n",
        "\n",
        "    general_limit = total_limit - len(places)\n",
        "    if general_limit > 0:\n",
        "        fetch_places(\"tourist attractions\", general_limit)\n",
        "\n",
        "    return list(places)[:total_limit]\n"
      ],
      "metadata": {
        "id": "I9NyX1ag9zZE"
      },
      "execution_count": null,
      "outputs": []
    },
    {
      "cell_type": "markdown",
      "source": [
        "**Save input from Yelp as locations**"
      ],
      "metadata": {
        "id": "B7QgmKKspmlq"
      }
    },
    {
      "cell_type": "code",
      "source": [
        "locations = get_top_places_from_yelp(location, interests)\n",
        "locations"
      ],
      "metadata": {
        "id": "BM6xKQ7ab4ax",
        "outputId": "adadd63c-0f28-491a-f2f3-bf610ddd60c3",
        "colab": {
          "base_uri": "https://localhost:8080/"
        }
      },
      "execution_count": null,
      "outputs": [
        {
          "output_type": "execute_result",
          "data": {
            "text/plain": [
              "[]"
            ]
          },
          "metadata": {},
          "execution_count": 17
        }
      ]
    },
    {
      "cell_type": "markdown",
      "source": [
        "**Use Google Map API to convert locations into coordinates**"
      ],
      "metadata": {
        "id": "Ik-xUm_vps1H"
      }
    },
    {
      "cell_type": "code",
      "source": [
        "import os\n",
        "import requests\n",
        "import folium\n",
        "from folium.plugins import MarkerCluster\n",
        "\n",
        "API_KEY = '...'\n",
        "\n",
        "# Get coordinates for a specific location using Google Maps Geocoding API\n",
        "def get_coordinates(location):\n",
        "    base_url = \"https://maps.googleapis.com/maps/api/geocode/json\"\n",
        "    params = {\n",
        "        \"address\": location,\n",
        "        \"key\": API_KEY\n",
        "    }\n",
        "    response = requests.get(base_url, params=params)\n",
        "    data = response.json()\n",
        "    if data['status'] == 'OK':\n",
        "        latlng = data['results'][0]['geometry']['location']\n",
        "        return latlng['lat'], latlng['lng']\n",
        "    else:\n",
        "        print(f\"Error fetching coordinates for {location}. Error: {data['status']}\")\n",
        "        return None\n",
        "\n",
        "for loc in locations:\n",
        "    coord = get_coordinates(loc)\n",
        "    if coord:\n",
        "        print(f\"{loc}: {coord}\")"
      ],
      "metadata": {
        "id": "Rf4sHS0eNHCn"
      },
      "execution_count": null,
      "outputs": []
    },
    {
      "cell_type": "markdown",
      "source": [
        "**Sort the locations using a greedy algorithm and draw**"
      ],
      "metadata": {
        "id": "_21BC5yBp8EN"
      }
    },
    {
      "cell_type": "code",
      "source": [
        "import requests\n",
        "import folium\n",
        "from folium.plugins import MarkerCluster\n",
        "\n",
        "def get_coordinates(location):\n",
        "    base_url = \"https://maps.googleapis.com/maps/api/geocode/json\"\n",
        "    params = {\n",
        "        \"address\": location,\n",
        "        \"key\": API_KEY\n",
        "    }\n",
        "    response = requests.get(base_url, params=params)\n",
        "    data = response.json()\n",
        "    if data['status'] == 'OK':\n",
        "        latlng = data['results'][0]['geometry']['location']\n",
        "        return latlng['lat'], latlng['lng']\n",
        "    else:\n",
        "        print(f\"Error fetching coordinates for {location}. Error: {data['status']}\")\n",
        "        return None\n",
        "\n",
        "def tsp_greedy(matrix):\n",
        "    num_locations = len(matrix)\n",
        "    unvisited = set(range(num_locations))\n",
        "    path = [0]\n",
        "    unvisited.remove(0)\n",
        "\n",
        "    while unvisited:\n",
        "        last = path[-1]\n",
        "        next_loc = min(unvisited, key=lambda x: matrix[last][x])\n",
        "        path.append(next_loc)\n",
        "        unvisited.remove(next_loc)\n",
        "    path.append(path[0])\n",
        "    return path\n",
        "\n",
        "def get_chunked_distance_matrix(locations):\n",
        "    max_elements = 10  # Google's limitation is typically 10 for free tier\n",
        "    num_locations = len(locations)\n",
        "    matrix = [[0 for _ in range(num_locations)] for _ in range(num_locations)]\n",
        "\n",
        "    for i in range(0, num_locations, max_elements):\n",
        "        for j in range(0, num_locations, max_elements):\n",
        "            chunked_origins = locations[i:i+max_elements]\n",
        "            chunked_destinations = locations[j:j+max_elements]\n",
        "            chunk_matrix = get_distance_matrix(chunked_origins, chunked_destinations)\n",
        "\n",
        "            if chunk_matrix is None:\n",
        "                print(\"Error fetching a chunk of distance matrix.\")\n",
        "                return None\n",
        "\n",
        "            for x, row in enumerate(chunk_matrix):\n",
        "                for y, distance in enumerate(row):\n",
        "                    matrix[i+x][j+y] = distance\n",
        "    return matrix\n",
        "\n",
        "def get_distance_matrix(origins, destinations=None):\n",
        "    if destinations is None:\n",
        "        destinations = origins\n",
        "\n",
        "    base_url = \"https://maps.googleapis.com/maps/api/distancematrix/json\"\n",
        "    params = {\n",
        "        \"origins\": \"|\".join(origins),\n",
        "        \"destinations\": \"|\".join(destinations),\n",
        "        \"key\": API_KEY\n",
        "    }\n",
        "    response = requests.get(base_url, params=params)\n",
        "    data = response.json()\n",
        "\n",
        "    if data['status'] == 'OK':\n",
        "        matrix = [[row['distance']['value'] for row in entry['elements']] for entry in data['rows']]\n",
        "        return matrix\n",
        "    else:\n",
        "        print(f\"Error fetching distance matrix. Error: {data['status']}\")\n",
        "        return None\n",
        "\n",
        "def plot_with_marker_cluster(locations, tuple_coordinates, base_location):\n",
        "    base_coord = get_coordinates(base_location)\n",
        "    m = folium.Map(location=base_coord, zoom_start=13)\n",
        "    marker_cluster = MarkerCluster().add_to(m)\n",
        "    for i, (location, coord) in enumerate(zip(locations, tuple_coordinates)):\n",
        "        if coord:\n",
        "            folium.Marker(\n",
        "                location=coord,\n",
        "                popup=location,\n",
        "                icon=folium.DivIcon(html=f'<div style=\"font-size: 12pt; color : black\">{i+1}</div>'),\n",
        "            ).add_to(marker_cluster)\n",
        "\n",
        "    # Draw polyline without the starting and ending location\n",
        "    folium.PolyLine(tuple_coordinates, color=\"blue\", weight=2.5, opacity=1).add_to(m)\n",
        "\n",
        "    return m\n",
        "\n",
        "full_locations = [location] + locations\n",
        "\n",
        "coordinates = [get_coordinates(loc) for loc in [location] + locations]\n",
        "\n",
        "# Using the chunked version to get distance matrix\n",
        "distance_matrix = get_chunked_distance_matrix(full_locations)\n",
        "if distance_matrix is None:\n",
        "    print(\"Error getting distance matrix. Execution stopped.\")\n",
        "else:\n",
        "    try:\n",
        "        optimized_order = tsp_greedy(distance_matrix)\n",
        "        optimized_coords = [coordinates[i] for i in optimized_order]\n",
        "        optimized_locations = [full_locations[i] for i in optimized_order]\n",
        "\n",
        "        # Remove the first and last elements which represent the starting and ending location\n",
        "        optimized_coords = optimized_coords[1:-1]\n",
        "        optimized_locations = optimized_locations[1:-1]\n",
        "\n",
        "        map_object = plot_with_marker_cluster(optimized_locations, optimized_coords, location)\n",
        "        display(map_object)\n",
        "    except KeyError as e:\n",
        "        print(f\"An error occurred: {e}\")"
      ],
      "metadata": {
        "id": "pwNyabrngZ4o"
      },
      "execution_count": null,
      "outputs": []
    },
    {
      "cell_type": "markdown",
      "source": [
        "**Use GPT to generate plans for the arranged locations**"
      ],
      "metadata": {
        "id": "7z4opTFKqEQA"
      }
    },
    {
      "cell_type": "code",
      "source": [
        "import openai\n",
        "\n",
        "def generate_plan(location, budget, days, interest):\n",
        "    \"\"\"\n",
        "    Generate a detailed travel plan based on location, budget, days, and interest using OpenAI API.\n",
        "    :param location: Location for the travel plan\n",
        "    :param budget: Budget for the trip\n",
        "    :param days: Number of days of the trip\n",
        "    :param interest: Specific interests for the trip\n",
        "    :return: Generated travel plan\n",
        "    \"\"\"\n",
        "    openai.api_key = \"...\"\n",
        "\n",
        "    # Build prompt\n",
        "    prompt = (\n",
        "        f\"Create a detailed travel plan with activities, meals, and accommodation suggestions.\\n\"\n",
        "        f\"Location: {location}\\n\"\n",
        "        f\"Budget: {budget}\\n\"\n",
        "        f\"Days: {days}\\n\"\n",
        "        f\"Interest: {interest}\\n\"\n",
        "        f\"Please provide a daily itinerary with interesting activities including the cost for every activity, recommended restaurants, and suitable places to stay.\"\n",
        "    )\n",
        "\n",
        "    # Invoke the OpenAI API\n",
        "    response = openai.Completion.create(\n",
        "        model=\"text-davinci-003\",  # or another suitable model\n",
        "        prompt=prompt,\n",
        "        max_tokens=2000  # Adjust as needed\n",
        "    )\n",
        "\n",
        "    # Get the generated text\n",
        "    generated_text = response['choices'][0]['text'].strip()\n",
        "\n",
        "    return generated_text\n",
        "\n",
        "# Call the function and print the result\n",
        "plan = generate_plan(location, budget, days, interests)\n",
        "print(plan)\n"
      ],
      "metadata": {
        "id": "CiRrqBClMl1I"
      },
      "execution_count": null,
      "outputs": []
    }
  ]
}