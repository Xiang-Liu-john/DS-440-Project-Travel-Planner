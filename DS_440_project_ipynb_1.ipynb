{
  "nbformat": 4,
  "nbformat_minor": 0,
  "metadata": {
    "colab": {
      "provenance": []
    },
    "kernelspec": {
      "name": "python3",
      "display_name": "Python 3"
    },
    "language_info": {
      "name": "python"
    }
  },
  "cells": [
    {
      "cell_type": "markdown",
      "source": [
        "# Wander Wise - AI Trip Planner"
      ],
      "metadata": {
        "id": "wBX_s0Q1szxm"
      }
    },
    {
      "cell_type": "markdown",
      "source": [
        "**User input：**"
      ],
      "metadata": {
        "id": "G_WEkgjhpNMb"
      }
    },
    {
      "cell_type": "code",
      "source": [
        "location = \"Manhattan, New York, NY\"\n",
        "budget = \"1000 USD\"\n",
        "days = \"5 days\"\n",
        "interests = \"Restaurant\""
      ],
      "metadata": {
        "id": "V9Diz2wRJ_RC"
      },
      "execution_count": null,
      "outputs": []
    },
    {
      "cell_type": "markdown",
      "source": [
        "**Install necessary libraries:**"
      ],
      "metadata": {
        "id": "maBDSv6bpSk5"
      }
    },
    {
      "cell_type": "code",
      "source": [
        "!pip install polyline"
      ],
      "metadata": {
        "colab": {
          "base_uri": "https://localhost:8080/"
        },
        "id": "BLnjTMHRH8vi",
        "outputId": "3addef20-249f-4b5b-fff7-fdb35ff13399"
      },
      "execution_count": null,
      "outputs": [
        {
          "output_type": "stream",
          "name": "stdout",
          "text": [
            "Collecting polyline\n",
            "  Downloading polyline-2.0.1-py3-none-any.whl (6.0 kB)\n",
            "Installing collected packages: polyline\n",
            "Successfully installed polyline-2.0.1\n"
          ]
        }
      ]
    },
    {
      "cell_type": "code",
      "source": [
        "pip install requests"
      ],
      "metadata": {
        "colab": {
          "base_uri": "https://localhost:8080/"
        },
        "id": "rwUwDkfP8yo7",
        "outputId": "4652ba64-3637-49d6-a48e-5b6ce625bf54"
      },
      "execution_count": null,
      "outputs": [
        {
          "output_type": "stream",
          "name": "stdout",
          "text": [
            "Requirement already satisfied: requests in /usr/local/lib/python3.10/dist-packages (2.31.0)\n",
            "Requirement already satisfied: charset-normalizer<4,>=2 in /usr/local/lib/python3.10/dist-packages (from requests) (3.3.2)\n",
            "Requirement already satisfied: idna<4,>=2.5 in /usr/local/lib/python3.10/dist-packages (from requests) (3.6)\n",
            "Requirement already satisfied: urllib3<3,>=1.21.1 in /usr/local/lib/python3.10/dist-packages (from requests) (2.0.7)\n",
            "Requirement already satisfied: certifi>=2017.4.17 in /usr/local/lib/python3.10/dist-packages (from requests) (2023.11.17)\n"
          ]
        }
      ]
    },
    {
      "cell_type": "code",
      "source": [
        "pip install openai==0.28.0"
      ],
      "metadata": {
        "colab": {
          "base_uri": "https://localhost:8080/"
        },
        "id": "iAdoPvOYNqor",
        "outputId": "f1fa9fb3-0c31-4858-9512-6766e7288f86"
      },
      "execution_count": null,
      "outputs": [
        {
          "output_type": "stream",
          "name": "stdout",
          "text": [
            "Collecting openai==0.28.0\n",
            "  Downloading openai-0.28.0-py3-none-any.whl (76 kB)\n",
            "\u001b[?25l     \u001b[90m━━━━━━━━━━━━━━━━━━━━━━━━━━━━━━━━━━━━━━━━\u001b[0m \u001b[32m0.0/76.5 kB\u001b[0m \u001b[31m?\u001b[0m eta \u001b[36m-:--:--\u001b[0m\r\u001b[2K     \u001b[90m━━━━━━━━━━━━━━━━━━━━━━━━━━━━━━━━━━━━━━━━\u001b[0m \u001b[32m76.5/76.5 kB\u001b[0m \u001b[31m2.2 MB/s\u001b[0m eta \u001b[36m0:00:00\u001b[0m\n",
            "\u001b[?25hRequirement already satisfied: requests>=2.20 in /usr/local/lib/python3.10/dist-packages (from openai==0.28.0) (2.31.0)\n",
            "Requirement already satisfied: tqdm in /usr/local/lib/python3.10/dist-packages (from openai==0.28.0) (4.66.1)\n",
            "Requirement already satisfied: aiohttp in /usr/local/lib/python3.10/dist-packages (from openai==0.28.0) (3.9.1)\n",
            "Requirement already satisfied: charset-normalizer<4,>=2 in /usr/local/lib/python3.10/dist-packages (from requests>=2.20->openai==0.28.0) (3.3.2)\n",
            "Requirement already satisfied: idna<4,>=2.5 in /usr/local/lib/python3.10/dist-packages (from requests>=2.20->openai==0.28.0) (3.6)\n",
            "Requirement already satisfied: urllib3<3,>=1.21.1 in /usr/local/lib/python3.10/dist-packages (from requests>=2.20->openai==0.28.0) (2.0.7)\n",
            "Requirement already satisfied: certifi>=2017.4.17 in /usr/local/lib/python3.10/dist-packages (from requests>=2.20->openai==0.28.0) (2023.11.17)\n",
            "Requirement already satisfied: attrs>=17.3.0 in /usr/local/lib/python3.10/dist-packages (from aiohttp->openai==0.28.0) (23.1.0)\n",
            "Requirement already satisfied: multidict<7.0,>=4.5 in /usr/local/lib/python3.10/dist-packages (from aiohttp->openai==0.28.0) (6.0.4)\n",
            "Requirement already satisfied: yarl<2.0,>=1.0 in /usr/local/lib/python3.10/dist-packages (from aiohttp->openai==0.28.0) (1.9.3)\n",
            "Requirement already satisfied: frozenlist>=1.1.1 in /usr/local/lib/python3.10/dist-packages (from aiohttp->openai==0.28.0) (1.4.0)\n",
            "Requirement already satisfied: aiosignal>=1.1.2 in /usr/local/lib/python3.10/dist-packages (from aiohttp->openai==0.28.0) (1.3.1)\n",
            "Requirement already satisfied: async-timeout<5.0,>=4.0 in /usr/local/lib/python3.10/dist-packages (from aiohttp->openai==0.28.0) (4.0.3)\n",
            "Installing collected packages: openai\n",
            "\u001b[31mERROR: pip's dependency resolver does not currently take into account all the packages that are installed. This behaviour is the source of the following dependency conflicts.\n",
            "llmx 0.0.15a0 requires cohere, which is not installed.\n",
            "llmx 0.0.15a0 requires tiktoken, which is not installed.\u001b[0m\u001b[31m\n",
            "\u001b[0mSuccessfully installed openai-0.28.0\n"
          ]
        }
      ]
    },
    {
      "cell_type": "code",
      "source": [
        "!pip install requests folium\n",
        "import requests\n",
        "import folium\n",
        "from folium.plugins import MarkerCluster"
      ],
      "metadata": {
        "colab": {
          "base_uri": "https://localhost:8080/"
        },
        "id": "CQWqInRcNAfr",
        "outputId": "ee4c31bd-53e7-4fb2-b2c9-15699fd65bb9"
      },
      "execution_count": null,
      "outputs": [
        {
          "output_type": "stream",
          "name": "stdout",
          "text": [
            "Requirement already satisfied: requests in /usr/local/lib/python3.10/dist-packages (2.31.0)\n",
            "Requirement already satisfied: folium in /usr/local/lib/python3.10/dist-packages (0.14.0)\n",
            "Requirement already satisfied: charset-normalizer<4,>=2 in /usr/local/lib/python3.10/dist-packages (from requests) (3.3.2)\n",
            "Requirement already satisfied: idna<4,>=2.5 in /usr/local/lib/python3.10/dist-packages (from requests) (3.6)\n",
            "Requirement already satisfied: urllib3<3,>=1.21.1 in /usr/local/lib/python3.10/dist-packages (from requests) (2.0.7)\n",
            "Requirement already satisfied: certifi>=2017.4.17 in /usr/local/lib/python3.10/dist-packages (from requests) (2023.11.17)\n",
            "Requirement already satisfied: branca>=0.6.0 in /usr/local/lib/python3.10/dist-packages (from folium) (0.7.0)\n",
            "Requirement already satisfied: jinja2>=2.9 in /usr/local/lib/python3.10/dist-packages (from folium) (3.1.2)\n",
            "Requirement already satisfied: numpy in /usr/local/lib/python3.10/dist-packages (from folium) (1.23.5)\n",
            "Requirement already satisfied: MarkupSafe>=2.0 in /usr/local/lib/python3.10/dist-packages (from jinja2>=2.9->folium) (2.1.3)\n"
          ]
        }
      ]
    },
    {
      "cell_type": "markdown",
      "source": [
        "**Return places from Yelp based on inputs**"
      ],
      "metadata": {
        "id": "IENznOj9pY-g"
      }
    },
    {
      "cell_type": "code",
      "source": [
        "def get_top_places_from_yelp(location, interests, total_limit=10):\n",
        "    url = \"https://api.yelp.com/v3/businesses/search\"\n",
        "    headers = {\n",
        "        \"Authorization\": \"YOUR_OWN_API\"\n",
        "    }\n",
        "\n",
        "    review_threshold = 50\n",
        "\n",
        "    places = set()\n",
        "\n",
        "    def fetch_places(term, limit):\n",
        "        params = {\"term\": term, \"location\": location, \"limit\": limit}\n",
        "        response = requests.get(url, headers=headers, params=params)\n",
        "        data = response.json()\n",
        "\n",
        "        if 'businesses' in data:\n",
        "            for b in data['businesses']:\n",
        "                if b.get('review_count', 0) >= review_threshold:\n",
        "                    place = f\"{b['name']} ({', '.join(b['location']['display_address'])})\"\n",
        "                    places.add(place)\n",
        "                    if len(places) >= total_limit:\n",
        "                        return\n",
        "\n",
        "    for interest in interests:\n",
        "        fetch_places(interest, 2)\n",
        "\n",
        "    general_limit = total_limit - len(places)\n",
        "    if general_limit > 0:\n",
        "        fetch_places(\"tourist attractions\", general_limit)\n",
        "\n",
        "    return list(places)[:total_limit]"
      ],
      "metadata": {
        "id": "hUbC54Zf85DS"
      },
      "execution_count": null,
      "outputs": []
    },
    {
      "cell_type": "markdown",
      "source": [
        "Backup Option"
      ],
      "metadata": {
        "id": "1UIraa2fxlsb"
      }
    },
    {
      "cell_type": "code",
      "source": [
        "import requests\n",
        "\n",
        "def get_top_places_from_yelp(location, interests, total_limit=10):\n",
        "    url = \"https://api.yelp.com/v3/businesses/search\"\n",
        "    headers = {\n",
        "        \"Authorization\": \"YOUR_OWN_API\"\n",
        "    }\n",
        "\n",
        "    review_threshold = 50  # Review threshold\n",
        "\n",
        "    places = set()\n",
        "\n",
        "    def fetch_places(term, limit):\n",
        "        params = {\"term\": term, \"location\": location, \"limit\": limit}\n",
        "        response = requests.get(url, headers=headers, params=params)\n",
        "        data = response.json()\n",
        "\n",
        "        if 'businesses' in data:\n",
        "            for b in data['businesses']:\n",
        "                if b.get('review_count', 0) >= review_threshold:\n",
        "                    # More robust location parsing\n",
        "                    location_parts = [part.strip() for part in location.split(\",\")]\n",
        "                    target_city = location_parts[0].lower()\n",
        "                    target_state = location_parts[1].lower() if len(location_parts) > 1 else ''\n",
        "\n",
        "                    business_city = b['location'].get('city', '').strip().lower()\n",
        "                    business_state = b['location'].get('state', '').strip().lower()\n",
        "\n",
        "                    # Check if the business location matches the target location\n",
        "                    if business_city == target_city and (not target_state or business_state == target_state):\n",
        "                        place = f\"{b['name']} ({', '.join(b['location']['display_address'])})\"\n",
        "                        places.add(place)\n",
        "                        if len(places) >= total_limit:\n",
        "                            return\n",
        "\n",
        "    for interest in interests:\n",
        "        fetch_places(interest, 1)\n",
        "\n",
        "    general_limit = total_limit - len(places)\n",
        "    if general_limit > 0:\n",
        "        fetch_places(\"tourist attractions\", general_limit)\n",
        "\n",
        "    return list(places)[:total_limit]\n"
      ],
      "metadata": {
        "id": "K5enIciNljuk"
      },
      "execution_count": null,
      "outputs": []
    },
    {
      "cell_type": "markdown",
      "source": [
        "**Save input from Yelp as locations**"
      ],
      "metadata": {
        "id": "B7QgmKKspmlq"
      }
    },
    {
      "cell_type": "code",
      "source": [
        "locations = get_top_places_from_yelp(location, interests)\n",
        "locations"
      ],
      "metadata": {
        "id": "BM6xKQ7ab4ax",
        "outputId": "8d7b03c3-b5aa-4f95-968d-311718503656",
        "colab": {
          "base_uri": "https://localhost:8080/"
        }
      },
      "execution_count": null,
      "outputs": [
        {
          "output_type": "execute_result",
          "data": {
            "text/plain": [
              "['Anytime Kitchen  (23 W 32nd St, Fl 3, New York, NY 10001)',\n",
              " 'La Grande Boucherie (145 W 53rd St, New York, NY 10019)',\n",
              " 'R Lounge at Two Times Square (Two Times Square, 714 Seventh Avenue at W. 48th Street, New York, NY 10036)',\n",
              " 'S Wan Cafe 洋紫荆 (85 Eldridge St Lower E, New York, NY 10002)',\n",
              " 'U and Me Nails (1465 2nd Ave, New York, NY 10075)',\n",
              " 'Trattoria Trecolori (254 West 47th St, New York, NY 10036)',\n",
              " 'Spyscape (928 8th Ave, New York, NY 10019)',\n",
              " \"e's BAR (511 Amsterdam Ave, New York, NY 10024)\",\n",
              " \"Jacob's Pickles (509 Amsterdam Ave, New York, NY 10024)\",\n",
              " 'S&P (174 5th Ave, New York, NY 10010)']"
            ]
          },
          "metadata": {},
          "execution_count": 8
        }
      ]
    },
    {
      "cell_type": "markdown",
      "source": [
        "**Use Google Map API to convert locations into coordinates**"
      ],
      "metadata": {
        "id": "Ik-xUm_vps1H"
      }
    },
    {
      "cell_type": "code",
      "source": [
        "import os\n",
        "import requests\n",
        "import folium\n",
        "from folium.plugins import MarkerCluster\n",
        "\n",
        "API_KEY = 'YOUR_OWN_API'\n",
        "\n",
        "# Get coordinates for a specific location using Google Maps Geocoding API\n",
        "def get_coordinates(location):\n",
        "    base_url = \"https://maps.googleapis.com/maps/api/geocode/json\"\n",
        "    params = {\n",
        "        \"address\": location,\n",
        "        \"key\": API_KEY\n",
        "    }\n",
        "    response = requests.get(base_url, params=params)\n",
        "    data = response.json()\n",
        "    if data['status'] == 'OK':\n",
        "        latlng = data['results'][0]['geometry']['location']\n",
        "        return latlng['lat'], latlng['lng']\n",
        "    else:\n",
        "        print(f\"Error fetching coordinates for {location}. Error: {data['status']}\")\n",
        "        return None\n",
        "\n",
        "for loc in locations:\n",
        "    coord = get_coordinates(loc)\n",
        "    if coord:\n",
        "        print(f\"{loc}: {coord}\")"
      ],
      "metadata": {
        "id": "Rf4sHS0eNHCn",
        "colab": {
          "base_uri": "https://localhost:8080/"
        },
        "outputId": "1311acae-66f4-4011-ea52-9fd7560847db"
      },
      "execution_count": null,
      "outputs": [
        {
          "output_type": "stream",
          "name": "stdout",
          "text": [
            "Anytime Kitchen  (23 W 32nd St, Fl 3, New York, NY 10001): (40.7477749, -73.9867579)\n",
            "La Grande Boucherie (145 W 53rd St, New York, NY 10019): (40.7626274, -73.98084109999999)\n",
            "R Lounge at Two Times Square (Two Times Square, 714 Seventh Avenue at W. 48th Street, New York, NY 10036): (40.7596193, -73.9846788)\n",
            "S Wan Cafe 洋紫荆 (85 Eldridge St Lower E, New York, NY 10002): (40.7173167, -73.9926444)\n",
            "U and Me Nails (1465 2nd Ave, New York, NY 10075): (40.771602, -73.95658279999999)\n",
            "Trattoria Trecolori (254 West 47th St, New York, NY 10036): (40.7599972, -73.9867421)\n",
            "Spyscape (928 8th Ave, New York, NY 10019): (40.7652697, -73.9837269)\n",
            "e's BAR (511 Amsterdam Ave, New York, NY 10024): (40.7867058, -73.9754856)\n",
            "Jacob's Pickles (509 Amsterdam Ave, New York, NY 10024): (40.786648, -73.9755259)\n",
            "S&P (174 5th Ave, New York, NY 10010): (40.7411077, -73.9901838)\n"
          ]
        }
      ]
    },
    {
      "cell_type": "markdown",
      "source": [
        "**Sort the locations using a greedy algorithm and draw**"
      ],
      "metadata": {
        "id": "_21BC5yBp8EN"
      }
    },
    {
      "cell_type": "code",
      "source": [
        "import requests\n",
        "import folium\n",
        "from folium.plugins import MarkerCluster\n",
        "import polyline\n",
        "\n",
        "def get_coordinates(location):\n",
        "    # Fetches geographic coordinates (latitude, longitude) for a given location\n",
        "    base_url = \"https://maps.googleapis.com/maps/api/geocode/json\"\n",
        "    params = {\n",
        "        \"address\": location,\n",
        "        \"key\": API_KEY  # Replace with your Google Maps API key\n",
        "    }\n",
        "    response = requests.get(base_url, params=params)\n",
        "    data = response.json()\n",
        "    if data['status'] == 'OK':\n",
        "        latlng = data['results'][0]['geometry']['location']\n",
        "        return latlng['lat'], latlng['lng']\n",
        "    else:\n",
        "        print(f\"Error fetching coordinates for {location}. Error: {data['status']}\")\n",
        "        return None\n",
        "\n",
        "def tsp_greedy(matrix):\n",
        "    # Implements a greedy algorithm for solving the Traveling Salesman Problem (TSP)\n",
        "    num_locations = len(matrix)\n",
        "    unvisited = set(range(num_locations))\n",
        "    path = [0]\n",
        "    unvisited.remove(0)\n",
        "\n",
        "    while unvisited:\n",
        "        last = path[-1]\n",
        "        next_loc = min(unvisited, key=lambda x: matrix[last][x])\n",
        "        path.append(next_loc)\n",
        "        unvisited.remove(next_loc)\n",
        "    # path.append(path[0])\n",
        "    return path\n",
        "\n",
        "def get_chunked_distance_matrix(locations):\n",
        "    # Fetches a distance matrix in chunks due to API limitations\n",
        "    max_elements = 10  # Google's limitation is typically 10 for the free tier\n",
        "    num_locations = len(locations)\n",
        "    matrix = [[0 for _ in range(num_locations)] for _ in range(num_locations)]\n",
        "\n",
        "    for i in range(0, num_locations, max_elements):\n",
        "        for j in range(0, num_locations, max_elements):\n",
        "            chunked_origins = locations[i:i+max_elements]\n",
        "            chunked_destinations = locations[j:j+max_elements]\n",
        "            chunk_matrix = get_distance_matrix(chunked_origins, chunked_destinations)\n",
        "\n",
        "            if chunk_matrix is None:\n",
        "                print(\"Error fetching a chunk of the distance matrix.\")\n",
        "                return None\n",
        "\n",
        "            for x, row in enumerate(chunk_matrix):\n",
        "                for y, distance in enumerate(row):\n",
        "                    matrix[i+x][j+y] = distance\n",
        "    return matrix\n",
        "\n",
        "def get_distance_matrix(origins, destinations=None):\n",
        "    # Fetches the distance matrix for given origins and destinations\n",
        "    if destinations is None:\n",
        "        destinations = origins\n",
        "\n",
        "    base_url = \"https://maps.googleapis.com/maps/api/distancematrix/json\"\n",
        "    params = {\n",
        "        \"origins\": \"|\".join(origins),\n",
        "        \"destinations\": \"|\".join(destinations),\n",
        "        \"key\": API_KEY  # Replace with your Google Maps API key\n",
        "    }\n",
        "    response = requests.get(base_url, params=params)\n",
        "    data = response.json()\n",
        "\n",
        "    if data['status'] == 'OK':\n",
        "        matrix = [[row['distance']['value'] for row in entry['elements']] for entry in data['rows']]\n",
        "        return matrix\n",
        "    else:\n",
        "        print(f\"Error fetching distance matrix. Error: {data['status']}\")\n",
        "        return None\n",
        "\n",
        "def plot_with_actual_roads(locations, tuple_coordinates):\n",
        "    # Check if locations and coordinates are not empty\n",
        "    if not locations or not tuple_coordinates:\n",
        "        print(\"No locations or coordinates provided.\")\n",
        "        return None\n",
        "\n",
        "    # Initialize the map with the first location in the optimized list\n",
        "    base_coord = tuple_coordinates[0]\n",
        "    m = folium.Map(location=base_coord, zoom_start=13)\n",
        "    marker_cluster = MarkerCluster().add_to(m)\n",
        "\n",
        "    # Adding markers for each location in the optimized list\n",
        "    for i, (location, coord) in enumerate(zip(locations, tuple_coordinates)):\n",
        "        html = f'''\n",
        "        <div style=\"background-color: blue; color: white; font-size: 12pt;\n",
        "                    width: 24px; height: 24px; text-align: center;\n",
        "                    border-radius: 50%; line-height: 24px;\">\n",
        "            {i+1}\n",
        "        </div>\n",
        "        '''\n",
        "        icon = folium.DivIcon(html=html)\n",
        "\n",
        "        folium.Marker(\n",
        "            location=coord,\n",
        "            popup=location,\n",
        "            icon=icon\n",
        "        ).add_to(marker_cluster)\n",
        "\n",
        "    # Drawing road routes between consecutive locations\n",
        "    road_path = []\n",
        "    for i in range(len(tuple_coordinates) - 1):\n",
        "        start_coord = tuple_coordinates[i]\n",
        "        end_coord = tuple_coordinates[i + 1]\n",
        "        segment_path = get_road_path(start_coord, end_coord)\n",
        "        if segment_path:\n",
        "            road_path.extend(segment_path)\n",
        "\n",
        "    # Add a PolyLine to connect all locations without the first point\n",
        "    folium.PolyLine(road_path, color=\"blue\", weight=2.5, opacity=1).add_to(m)\n",
        "\n",
        "    return m\n",
        "\n",
        "def get_road_path(start_coord, end_coord):\n",
        "    base_url = \"https://maps.googleapis.com/maps/api/directions/json\"\n",
        "    params = {\n",
        "        \"origin\": f\"{start_coord[0]},{start_coord[1]}\",\n",
        "        \"destination\": f\"{end_coord[0]},{end_coord[1]}\",\n",
        "        \"key\": API_KEY\n",
        "    }\n",
        "\n",
        "    response = requests.get(base_url, params=params)\n",
        "    data = response.json()\n",
        "\n",
        "    if data['status'] == 'OK':\n",
        "        # Extract polyline encoded string\n",
        "        polyline_encoded = data['routes'][0]['overview_polyline']['points']\n",
        "        # Decode polyline to a list of latitude and longitude pairs\n",
        "        road_path = polyline.decode(polyline_encoded)\n",
        "        return road_path\n",
        "    else:\n",
        "        print(f\"Error fetching road path. Error: {data['status']}\")\n",
        "        return None\n",
        "\n",
        "# Main script execution\n",
        "full_locations = locations  # Use only the locations you want to optimize\n",
        "coordinates = [get_coordinates(loc) for loc in full_locations]\n",
        "\n",
        "distance_matrix = get_chunked_distance_matrix(full_locations)\n",
        "if distance_matrix is None:\n",
        "    print(\"Error getting distance matrix. Execution stopped.\")\n",
        "else:\n",
        "    try:\n",
        "        optimized_order = tsp_greedy(distance_matrix)\n",
        "        optimized_coords = [coordinates[i] for i in optimized_order]\n",
        "        optimized_locations = [full_locations[i] for i in optimized_order]\n",
        "\n",
        "        map_object = plot_with_actual_roads(optimized_locations, optimized_coords)\n",
        "        display(map_object)\n",
        "    except KeyError as e:\n",
        "        print(f\"An error occurred: {e}\")"
      ],
      "metadata": {
        "colab": {
          "base_uri": "https://localhost:8080/",
          "height": 850
        },
        "id": "yRqbfPnvGTYF",
        "outputId": "df85c8ff-d9fd-4a84-9183-177638cba817"
      },
      "execution_count": null,
      "outputs": [
        {
          "output_type": "display_data",
          "data": {
            "text/plain": [
              "<folium.folium.Map at 0x79c652199750>"
            ],
            "text/html": [
              "<div style=\"width:100%;\"><div style=\"position:relative;width:100%;height:0;padding-bottom:60%;\"><span style=\"color:#565656\">Make this Notebook Trusted to load map: File -> Trust Notebook</span><iframe srcdoc=\"&lt;!DOCTYPE html&gt;\n",
              "&lt;html&gt;\n",
              "&lt;head&gt;\n",
              "    \n",
              "    &lt;meta http-equiv=&quot;content-type&quot; content=&quot;text/html; charset=UTF-8&quot; /&gt;\n",
              "    \n",
              "        &lt;script&gt;\n",
              "            L_NO_TOUCH = false;\n",
              "            L_DISABLE_3D = false;\n",
              "        &lt;/script&gt;\n",
              "    \n",
              "    &lt;style&gt;html, body {width: 100%;height: 100%;margin: 0;padding: 0;}&lt;/style&gt;\n",
              "    &lt;style&gt;#map {position:absolute;top:0;bottom:0;right:0;left:0;}&lt;/style&gt;\n",
              "    &lt;script src=&quot;https://cdn.jsdelivr.net/npm/leaflet@1.9.3/dist/leaflet.js&quot;&gt;&lt;/script&gt;\n",
              "    &lt;script src=&quot;https://code.jquery.com/jquery-1.12.4.min.js&quot;&gt;&lt;/script&gt;\n",
              "    &lt;script src=&quot;https://cdn.jsdelivr.net/npm/bootstrap@5.2.2/dist/js/bootstrap.bundle.min.js&quot;&gt;&lt;/script&gt;\n",
              "    &lt;script src=&quot;https://cdnjs.cloudflare.com/ajax/libs/Leaflet.awesome-markers/2.0.2/leaflet.awesome-markers.js&quot;&gt;&lt;/script&gt;\n",
              "    &lt;link rel=&quot;stylesheet&quot; href=&quot;https://cdn.jsdelivr.net/npm/leaflet@1.9.3/dist/leaflet.css&quot;/&gt;\n",
              "    &lt;link rel=&quot;stylesheet&quot; href=&quot;https://cdn.jsdelivr.net/npm/bootstrap@5.2.2/dist/css/bootstrap.min.css&quot;/&gt;\n",
              "    &lt;link rel=&quot;stylesheet&quot; href=&quot;https://netdna.bootstrapcdn.com/bootstrap/3.0.0/css/bootstrap.min.css&quot;/&gt;\n",
              "    &lt;link rel=&quot;stylesheet&quot; href=&quot;https://cdn.jsdelivr.net/npm/@fortawesome/fontawesome-free@6.2.0/css/all.min.css&quot;/&gt;\n",
              "    &lt;link rel=&quot;stylesheet&quot; href=&quot;https://cdnjs.cloudflare.com/ajax/libs/Leaflet.awesome-markers/2.0.2/leaflet.awesome-markers.css&quot;/&gt;\n",
              "    &lt;link rel=&quot;stylesheet&quot; href=&quot;https://cdn.jsdelivr.net/gh/python-visualization/folium/folium/templates/leaflet.awesome.rotate.min.css&quot;/&gt;\n",
              "    \n",
              "            &lt;meta name=&quot;viewport&quot; content=&quot;width=device-width,\n",
              "                initial-scale=1.0, maximum-scale=1.0, user-scalable=no&quot; /&gt;\n",
              "            &lt;style&gt;\n",
              "                #map_1e8a7a4bcdadc7d1d99cc7112679f05b {\n",
              "                    position: relative;\n",
              "                    width: 100.0%;\n",
              "                    height: 100.0%;\n",
              "                    left: 0.0%;\n",
              "                    top: 0.0%;\n",
              "                }\n",
              "                .leaflet-container { font-size: 1rem; }\n",
              "            &lt;/style&gt;\n",
              "        \n",
              "    &lt;script src=&quot;https://cdnjs.cloudflare.com/ajax/libs/leaflet.markercluster/1.1.0/leaflet.markercluster.js&quot;&gt;&lt;/script&gt;\n",
              "    &lt;link rel=&quot;stylesheet&quot; href=&quot;https://cdnjs.cloudflare.com/ajax/libs/leaflet.markercluster/1.1.0/MarkerCluster.css&quot;/&gt;\n",
              "    &lt;link rel=&quot;stylesheet&quot; href=&quot;https://cdnjs.cloudflare.com/ajax/libs/leaflet.markercluster/1.1.0/MarkerCluster.Default.css&quot;/&gt;\n",
              "&lt;/head&gt;\n",
              "&lt;body&gt;\n",
              "    \n",
              "    \n",
              "            &lt;div class=&quot;folium-map&quot; id=&quot;map_1e8a7a4bcdadc7d1d99cc7112679f05b&quot; &gt;&lt;/div&gt;\n",
              "        \n",
              "&lt;/body&gt;\n",
              "&lt;script&gt;\n",
              "    \n",
              "    \n",
              "            var map_1e8a7a4bcdadc7d1d99cc7112679f05b = L.map(\n",
              "                &quot;map_1e8a7a4bcdadc7d1d99cc7112679f05b&quot;,\n",
              "                {\n",
              "                    center: [40.7477749, -73.9867579],\n",
              "                    crs: L.CRS.EPSG3857,\n",
              "                    zoom: 13,\n",
              "                    zoomControl: true,\n",
              "                    preferCanvas: false,\n",
              "                }\n",
              "            );\n",
              "\n",
              "            \n",
              "\n",
              "        \n",
              "    \n",
              "            var tile_layer_ca80b2b921cf6c21110d3e5f2b50a447 = L.tileLayer(\n",
              "                &quot;https://{s}.tile.openstreetmap.org/{z}/{x}/{y}.png&quot;,\n",
              "                {&quot;attribution&quot;: &quot;Data by \\u0026copy; \\u003ca target=\\&quot;_blank\\&quot; href=\\&quot;http://openstreetmap.org\\&quot;\\u003eOpenStreetMap\\u003c/a\\u003e, under \\u003ca target=\\&quot;_blank\\&quot; href=\\&quot;http://www.openstreetmap.org/copyright\\&quot;\\u003eODbL\\u003c/a\\u003e.&quot;, &quot;detectRetina&quot;: false, &quot;maxNativeZoom&quot;: 18, &quot;maxZoom&quot;: 18, &quot;minZoom&quot;: 0, &quot;noWrap&quot;: false, &quot;opacity&quot;: 1, &quot;subdomains&quot;: &quot;abc&quot;, &quot;tms&quot;: false}\n",
              "            ).addTo(map_1e8a7a4bcdadc7d1d99cc7112679f05b);\n",
              "        \n",
              "    \n",
              "            var marker_cluster_24ead89bcd7aeef5058b142add7c81af = L.markerClusterGroup(\n",
              "                {}\n",
              "            );\n",
              "            map_1e8a7a4bcdadc7d1d99cc7112679f05b.addLayer(marker_cluster_24ead89bcd7aeef5058b142add7c81af);\n",
              "        \n",
              "    \n",
              "            var marker_367e38679411c03c80476ff13b2d8ffc = L.marker(\n",
              "                [40.7477749, -73.9867579],\n",
              "                {}\n",
              "            ).addTo(marker_cluster_24ead89bcd7aeef5058b142add7c81af);\n",
              "        \n",
              "    \n",
              "            var div_icon_7212f5f0ed39652cfbb1c552bfbe5af2 = L.divIcon({&quot;className&quot;: &quot;empty&quot;, &quot;html&quot;: &quot;\\n        \\u003cdiv style=\\&quot;background-color: blue; color: white; font-size: 12pt; \\n                    width: 24px; height: 24px; text-align: center; \\n                    border-radius: 50%; line-height: 24px;\\&quot;\\u003e\\n            1\\n        \\u003c/div\\u003e\\n        &quot;});\n",
              "            marker_367e38679411c03c80476ff13b2d8ffc.setIcon(div_icon_7212f5f0ed39652cfbb1c552bfbe5af2);\n",
              "        \n",
              "    \n",
              "        var popup_0055329895a77742106ada26d1dd6001 = L.popup({&quot;maxWidth&quot;: &quot;100%&quot;});\n",
              "\n",
              "        \n",
              "            \n",
              "                var html_92c0b263d7164ea07c0b60fc326f4ee7 = $(`&lt;div id=&quot;html_92c0b263d7164ea07c0b60fc326f4ee7&quot; style=&quot;width: 100.0%; height: 100.0%;&quot;&gt;Anytime Kitchen  (23 W 32nd St, Fl 3, New York, NY 10001)&lt;/div&gt;`)[0];\n",
              "                popup_0055329895a77742106ada26d1dd6001.setContent(html_92c0b263d7164ea07c0b60fc326f4ee7);\n",
              "            \n",
              "        \n",
              "\n",
              "        marker_367e38679411c03c80476ff13b2d8ffc.bindPopup(popup_0055329895a77742106ada26d1dd6001)\n",
              "        ;\n",
              "\n",
              "        \n",
              "    \n",
              "    \n",
              "            var marker_d90dc6c756ecca7f60d9a1d88dfdd04b = L.marker(\n",
              "                [40.7411077, -73.9901838],\n",
              "                {}\n",
              "            ).addTo(marker_cluster_24ead89bcd7aeef5058b142add7c81af);\n",
              "        \n",
              "    \n",
              "            var div_icon_16912ce5a085020e44d57a6c97458d77 = L.divIcon({&quot;className&quot;: &quot;empty&quot;, &quot;html&quot;: &quot;\\n        \\u003cdiv style=\\&quot;background-color: blue; color: white; font-size: 12pt; \\n                    width: 24px; height: 24px; text-align: center; \\n                    border-radius: 50%; line-height: 24px;\\&quot;\\u003e\\n            2\\n        \\u003c/div\\u003e\\n        &quot;});\n",
              "            marker_d90dc6c756ecca7f60d9a1d88dfdd04b.setIcon(div_icon_16912ce5a085020e44d57a6c97458d77);\n",
              "        \n",
              "    \n",
              "        var popup_2368c39ea30c51040deea68cf9b09a53 = L.popup({&quot;maxWidth&quot;: &quot;100%&quot;});\n",
              "\n",
              "        \n",
              "            \n",
              "                var html_a18949ceaca3f60b6b0d7e24221bbcb1 = $(`&lt;div id=&quot;html_a18949ceaca3f60b6b0d7e24221bbcb1&quot; style=&quot;width: 100.0%; height: 100.0%;&quot;&gt;S&amp;P (174 5th Ave, New York, NY 10010)&lt;/div&gt;`)[0];\n",
              "                popup_2368c39ea30c51040deea68cf9b09a53.setContent(html_a18949ceaca3f60b6b0d7e24221bbcb1);\n",
              "            \n",
              "        \n",
              "\n",
              "        marker_d90dc6c756ecca7f60d9a1d88dfdd04b.bindPopup(popup_2368c39ea30c51040deea68cf9b09a53)\n",
              "        ;\n",
              "\n",
              "        \n",
              "    \n",
              "    \n",
              "            var marker_55c1db640db740a1c9dd0867860bdbf5 = L.marker(\n",
              "                [40.7599972, -73.9867421],\n",
              "                {}\n",
              "            ).addTo(marker_cluster_24ead89bcd7aeef5058b142add7c81af);\n",
              "        \n",
              "    \n",
              "            var div_icon_aa82f083c9c7dc02f14a2970bf75ff28 = L.divIcon({&quot;className&quot;: &quot;empty&quot;, &quot;html&quot;: &quot;\\n        \\u003cdiv style=\\&quot;background-color: blue; color: white; font-size: 12pt; \\n                    width: 24px; height: 24px; text-align: center; \\n                    border-radius: 50%; line-height: 24px;\\&quot;\\u003e\\n            3\\n        \\u003c/div\\u003e\\n        &quot;});\n",
              "            marker_55c1db640db740a1c9dd0867860bdbf5.setIcon(div_icon_aa82f083c9c7dc02f14a2970bf75ff28);\n",
              "        \n",
              "    \n",
              "        var popup_23eff405bb9b885158eea5f5c7ed94b6 = L.popup({&quot;maxWidth&quot;: &quot;100%&quot;});\n",
              "\n",
              "        \n",
              "            \n",
              "                var html_0225100d38ddf4e036517fe197335f22 = $(`&lt;div id=&quot;html_0225100d38ddf4e036517fe197335f22&quot; style=&quot;width: 100.0%; height: 100.0%;&quot;&gt;Trattoria Trecolori (254 West 47th St, New York, NY 10036)&lt;/div&gt;`)[0];\n",
              "                popup_23eff405bb9b885158eea5f5c7ed94b6.setContent(html_0225100d38ddf4e036517fe197335f22);\n",
              "            \n",
              "        \n",
              "\n",
              "        marker_55c1db640db740a1c9dd0867860bdbf5.bindPopup(popup_23eff405bb9b885158eea5f5c7ed94b6)\n",
              "        ;\n",
              "\n",
              "        \n",
              "    \n",
              "    \n",
              "            var marker_d8cff581caf5c77c793bb5abdf061845 = L.marker(\n",
              "                [40.7596193, -73.9846788],\n",
              "                {}\n",
              "            ).addTo(marker_cluster_24ead89bcd7aeef5058b142add7c81af);\n",
              "        \n",
              "    \n",
              "            var div_icon_3c90c41a9e42dde6082df69b270b5978 = L.divIcon({&quot;className&quot;: &quot;empty&quot;, &quot;html&quot;: &quot;\\n        \\u003cdiv style=\\&quot;background-color: blue; color: white; font-size: 12pt; \\n                    width: 24px; height: 24px; text-align: center; \\n                    border-radius: 50%; line-height: 24px;\\&quot;\\u003e\\n            4\\n        \\u003c/div\\u003e\\n        &quot;});\n",
              "            marker_d8cff581caf5c77c793bb5abdf061845.setIcon(div_icon_3c90c41a9e42dde6082df69b270b5978);\n",
              "        \n",
              "    \n",
              "        var popup_3abd7721f9a4e8c3f102d8c00301bd5f = L.popup({&quot;maxWidth&quot;: &quot;100%&quot;});\n",
              "\n",
              "        \n",
              "            \n",
              "                var html_c30bb06d3968366781c42b0f3156516c = $(`&lt;div id=&quot;html_c30bb06d3968366781c42b0f3156516c&quot; style=&quot;width: 100.0%; height: 100.0%;&quot;&gt;R Lounge at Two Times Square (Two Times Square, 714 Seventh Avenue at W. 48th Street, New York, NY 10036)&lt;/div&gt;`)[0];\n",
              "                popup_3abd7721f9a4e8c3f102d8c00301bd5f.setContent(html_c30bb06d3968366781c42b0f3156516c);\n",
              "            \n",
              "        \n",
              "\n",
              "        marker_d8cff581caf5c77c793bb5abdf061845.bindPopup(popup_3abd7721f9a4e8c3f102d8c00301bd5f)\n",
              "        ;\n",
              "\n",
              "        \n",
              "    \n",
              "    \n",
              "            var marker_4a74e6587d4c27e0b867dc78231e8e1f = L.marker(\n",
              "                [40.7652697, -73.9837269],\n",
              "                {}\n",
              "            ).addTo(marker_cluster_24ead89bcd7aeef5058b142add7c81af);\n",
              "        \n",
              "    \n",
              "            var div_icon_3c20791560c8a07f1d5a26ad68613520 = L.divIcon({&quot;className&quot;: &quot;empty&quot;, &quot;html&quot;: &quot;\\n        \\u003cdiv style=\\&quot;background-color: blue; color: white; font-size: 12pt; \\n                    width: 24px; height: 24px; text-align: center; \\n                    border-radius: 50%; line-height: 24px;\\&quot;\\u003e\\n            5\\n        \\u003c/div\\u003e\\n        &quot;});\n",
              "            marker_4a74e6587d4c27e0b867dc78231e8e1f.setIcon(div_icon_3c20791560c8a07f1d5a26ad68613520);\n",
              "        \n",
              "    \n",
              "        var popup_6bf9870feaf862ac93fceb3d79d4975f = L.popup({&quot;maxWidth&quot;: &quot;100%&quot;});\n",
              "\n",
              "        \n",
              "            \n",
              "                var html_b1d4e19e3411151e96f93fe09b634ea2 = $(`&lt;div id=&quot;html_b1d4e19e3411151e96f93fe09b634ea2&quot; style=&quot;width: 100.0%; height: 100.0%;&quot;&gt;Spyscape (928 8th Ave, New York, NY 10019)&lt;/div&gt;`)[0];\n",
              "                popup_6bf9870feaf862ac93fceb3d79d4975f.setContent(html_b1d4e19e3411151e96f93fe09b634ea2);\n",
              "            \n",
              "        \n",
              "\n",
              "        marker_4a74e6587d4c27e0b867dc78231e8e1f.bindPopup(popup_6bf9870feaf862ac93fceb3d79d4975f)\n",
              "        ;\n",
              "\n",
              "        \n",
              "    \n",
              "    \n",
              "            var marker_2cd701d9c79296a94ef91359fe75e7d3 = L.marker(\n",
              "                [40.7626274, -73.98084109999999],\n",
              "                {}\n",
              "            ).addTo(marker_cluster_24ead89bcd7aeef5058b142add7c81af);\n",
              "        \n",
              "    \n",
              "            var div_icon_af0a2acb298a42d25543b7dee253ea1f = L.divIcon({&quot;className&quot;: &quot;empty&quot;, &quot;html&quot;: &quot;\\n        \\u003cdiv style=\\&quot;background-color: blue; color: white; font-size: 12pt; \\n                    width: 24px; height: 24px; text-align: center; \\n                    border-radius: 50%; line-height: 24px;\\&quot;\\u003e\\n            6\\n        \\u003c/div\\u003e\\n        &quot;});\n",
              "            marker_2cd701d9c79296a94ef91359fe75e7d3.setIcon(div_icon_af0a2acb298a42d25543b7dee253ea1f);\n",
              "        \n",
              "    \n",
              "        var popup_75bd1940b60d6df1488d00baefa2b5c0 = L.popup({&quot;maxWidth&quot;: &quot;100%&quot;});\n",
              "\n",
              "        \n",
              "            \n",
              "                var html_03ed7c994863d9622dd7e2c4fa59adca = $(`&lt;div id=&quot;html_03ed7c994863d9622dd7e2c4fa59adca&quot; style=&quot;width: 100.0%; height: 100.0%;&quot;&gt;La Grande Boucherie (145 W 53rd St, New York, NY 10019)&lt;/div&gt;`)[0];\n",
              "                popup_75bd1940b60d6df1488d00baefa2b5c0.setContent(html_03ed7c994863d9622dd7e2c4fa59adca);\n",
              "            \n",
              "        \n",
              "\n",
              "        marker_2cd701d9c79296a94ef91359fe75e7d3.bindPopup(popup_75bd1940b60d6df1488d00baefa2b5c0)\n",
              "        ;\n",
              "\n",
              "        \n",
              "    \n",
              "    \n",
              "            var marker_639716f5833c759f784fac64a8eb070a = L.marker(\n",
              "                [40.786648, -73.9755259],\n",
              "                {}\n",
              "            ).addTo(marker_cluster_24ead89bcd7aeef5058b142add7c81af);\n",
              "        \n",
              "    \n",
              "            var div_icon_cf43266dd63b0af33a7aee16aed03087 = L.divIcon({&quot;className&quot;: &quot;empty&quot;, &quot;html&quot;: &quot;\\n        \\u003cdiv style=\\&quot;background-color: blue; color: white; font-size: 12pt; \\n                    width: 24px; height: 24px; text-align: center; \\n                    border-radius: 50%; line-height: 24px;\\&quot;\\u003e\\n            7\\n        \\u003c/div\\u003e\\n        &quot;});\n",
              "            marker_639716f5833c759f784fac64a8eb070a.setIcon(div_icon_cf43266dd63b0af33a7aee16aed03087);\n",
              "        \n",
              "    \n",
              "        var popup_b50c694992815d215563a280238eef56 = L.popup({&quot;maxWidth&quot;: &quot;100%&quot;});\n",
              "\n",
              "        \n",
              "            \n",
              "                var html_3eaf048dbb020f4d2d1faec310a63c44 = $(`&lt;div id=&quot;html_3eaf048dbb020f4d2d1faec310a63c44&quot; style=&quot;width: 100.0%; height: 100.0%;&quot;&gt;Jacob&#x27;s Pickles (509 Amsterdam Ave, New York, NY 10024)&lt;/div&gt;`)[0];\n",
              "                popup_b50c694992815d215563a280238eef56.setContent(html_3eaf048dbb020f4d2d1faec310a63c44);\n",
              "            \n",
              "        \n",
              "\n",
              "        marker_639716f5833c759f784fac64a8eb070a.bindPopup(popup_b50c694992815d215563a280238eef56)\n",
              "        ;\n",
              "\n",
              "        \n",
              "    \n",
              "    \n",
              "            var marker_802a58519d3ac96573df79a6e91457f3 = L.marker(\n",
              "                [40.7867058, -73.9754856],\n",
              "                {}\n",
              "            ).addTo(marker_cluster_24ead89bcd7aeef5058b142add7c81af);\n",
              "        \n",
              "    \n",
              "            var div_icon_c984c0c5726b6d023c2d1cbdb5a140be = L.divIcon({&quot;className&quot;: &quot;empty&quot;, &quot;html&quot;: &quot;\\n        \\u003cdiv style=\\&quot;background-color: blue; color: white; font-size: 12pt; \\n                    width: 24px; height: 24px; text-align: center; \\n                    border-radius: 50%; line-height: 24px;\\&quot;\\u003e\\n            8\\n        \\u003c/div\\u003e\\n        &quot;});\n",
              "            marker_802a58519d3ac96573df79a6e91457f3.setIcon(div_icon_c984c0c5726b6d023c2d1cbdb5a140be);\n",
              "        \n",
              "    \n",
              "        var popup_ed35c554030b1fd49565a422e70f5d2f = L.popup({&quot;maxWidth&quot;: &quot;100%&quot;});\n",
              "\n",
              "        \n",
              "            \n",
              "                var html_d63c33f34b3dc177625507399a7fa150 = $(`&lt;div id=&quot;html_d63c33f34b3dc177625507399a7fa150&quot; style=&quot;width: 100.0%; height: 100.0%;&quot;&gt;e&#x27;s BAR (511 Amsterdam Ave, New York, NY 10024)&lt;/div&gt;`)[0];\n",
              "                popup_ed35c554030b1fd49565a422e70f5d2f.setContent(html_d63c33f34b3dc177625507399a7fa150);\n",
              "            \n",
              "        \n",
              "\n",
              "        marker_802a58519d3ac96573df79a6e91457f3.bindPopup(popup_ed35c554030b1fd49565a422e70f5d2f)\n",
              "        ;\n",
              "\n",
              "        \n",
              "    \n",
              "    \n",
              "            var marker_5a640f4a3aa5b172edffa01aa345669b = L.marker(\n",
              "                [40.771602, -73.95658279999999],\n",
              "                {}\n",
              "            ).addTo(marker_cluster_24ead89bcd7aeef5058b142add7c81af);\n",
              "        \n",
              "    \n",
              "            var div_icon_f7b8d143ff11ac34fc4808226fc86e77 = L.divIcon({&quot;className&quot;: &quot;empty&quot;, &quot;html&quot;: &quot;\\n        \\u003cdiv style=\\&quot;background-color: blue; color: white; font-size: 12pt; \\n                    width: 24px; height: 24px; text-align: center; \\n                    border-radius: 50%; line-height: 24px;\\&quot;\\u003e\\n            9\\n        \\u003c/div\\u003e\\n        &quot;});\n",
              "            marker_5a640f4a3aa5b172edffa01aa345669b.setIcon(div_icon_f7b8d143ff11ac34fc4808226fc86e77);\n",
              "        \n",
              "    \n",
              "        var popup_22affd647bbdb75ed52ba01f30de3db3 = L.popup({&quot;maxWidth&quot;: &quot;100%&quot;});\n",
              "\n",
              "        \n",
              "            \n",
              "                var html_f16fd5d8db0ade693a604d2aab37a888 = $(`&lt;div id=&quot;html_f16fd5d8db0ade693a604d2aab37a888&quot; style=&quot;width: 100.0%; height: 100.0%;&quot;&gt;U and Me Nails (1465 2nd Ave, New York, NY 10075)&lt;/div&gt;`)[0];\n",
              "                popup_22affd647bbdb75ed52ba01f30de3db3.setContent(html_f16fd5d8db0ade693a604d2aab37a888);\n",
              "            \n",
              "        \n",
              "\n",
              "        marker_5a640f4a3aa5b172edffa01aa345669b.bindPopup(popup_22affd647bbdb75ed52ba01f30de3db3)\n",
              "        ;\n",
              "\n",
              "        \n",
              "    \n",
              "    \n",
              "            var marker_0149fbbbb874a733d21e3ee792ebf65e = L.marker(\n",
              "                [40.7173167, -73.9926444],\n",
              "                {}\n",
              "            ).addTo(marker_cluster_24ead89bcd7aeef5058b142add7c81af);\n",
              "        \n",
              "    \n",
              "            var div_icon_5ce5abf0f0252074b87e57894887c5d1 = L.divIcon({&quot;className&quot;: &quot;empty&quot;, &quot;html&quot;: &quot;\\n        \\u003cdiv style=\\&quot;background-color: blue; color: white; font-size: 12pt; \\n                    width: 24px; height: 24px; text-align: center; \\n                    border-radius: 50%; line-height: 24px;\\&quot;\\u003e\\n            10\\n        \\u003c/div\\u003e\\n        &quot;});\n",
              "            marker_0149fbbbb874a733d21e3ee792ebf65e.setIcon(div_icon_5ce5abf0f0252074b87e57894887c5d1);\n",
              "        \n",
              "    \n",
              "        var popup_3c2c82b8c12910957c98984e552a4ff6 = L.popup({&quot;maxWidth&quot;: &quot;100%&quot;});\n",
              "\n",
              "        \n",
              "            \n",
              "                var html_f38d6d6aa5ce7d838cfe81e48611df51 = $(`&lt;div id=&quot;html_f38d6d6aa5ce7d838cfe81e48611df51&quot; style=&quot;width: 100.0%; height: 100.0%;&quot;&gt;S Wan Cafe 洋紫荆 (85 Eldridge St Lower E, New York, NY 10002)&lt;/div&gt;`)[0];\n",
              "                popup_3c2c82b8c12910957c98984e552a4ff6.setContent(html_f38d6d6aa5ce7d838cfe81e48611df51);\n",
              "            \n",
              "        \n",
              "\n",
              "        marker_0149fbbbb874a733d21e3ee792ebf65e.bindPopup(popup_3c2c82b8c12910957c98984e552a4ff6)\n",
              "        ;\n",
              "\n",
              "        \n",
              "    \n",
              "    \n",
              "            var poly_line_76c7faf2257807ebfeba3e267ee54838 = L.polyline(\n",
              "                [[40.74771, -73.98681], [40.74716, -73.9855], [40.74685, -73.98574], [40.74623, -73.98619], [40.74593, -73.98642], [40.74574, -73.98654], [40.74525, -73.9869], [40.74437, -73.98753], [40.7436, -73.9881], [40.74284, -73.98867], [40.74221, -73.98911], [40.74157, -73.98958], [40.74078, -73.99015], [40.74027, -73.99052], [40.7407, -73.99155], [40.7411, -73.99251], [40.74148, -73.99342], [40.74162, -73.99375], [40.74187, -73.99356], [40.74214, -73.99336], [40.74223, -73.99328], [40.74177, -73.99217], [40.74097, -73.99028], [40.74097, -73.99028], [40.74067, -73.98954], [40.74013, -73.98827], [40.73954, -73.98692], [40.7395, -73.9868], [40.74017, -73.98632], [40.74061, -73.98599], [40.74084, -73.98583], [40.74178, -73.98514], [40.74255, -73.98459], [40.74283, -73.98438], [40.74312, -73.98415], [40.74325, -73.98407], [40.74445, -73.98319], [40.74582, -73.98218], [40.74588, -73.9822], [40.74648, -73.98178], [40.74662, -73.9817], [40.74695, -73.98145], [40.74779, -73.98083], [40.74858, -73.98025], [40.74939, -73.97967], [40.75002, -73.97921], [40.75075, -73.97865], [40.75088, -73.97855], [40.75164, -73.97799], [40.75225, -73.97755], [40.75228, -73.9775], [40.75227, -73.97743], [40.75213, -73.97708], [40.75214, -73.97698], [40.75217, -73.97691], [40.75365, -73.97584], [40.75378, -73.9758], [40.75405, -73.97583], [40.75411, -73.97588], [40.75415, -73.97596], [40.75423, -73.97597], [40.75457, -73.97574], [40.7552, -73.97529], [40.75527, -73.97525], [40.75535, -73.97544], [40.75562, -73.97606], [40.75608, -73.97718], [40.75643, -73.97801], [40.75709, -73.97959], [40.7579, -73.98151], [40.75853, -73.98303], [40.75923, -73.98463], [40.76, -73.98647], [40.76008, -73.98668], [40.76008, -73.98668], [40.7604, -73.98745], [40.76104, -73.98701], [40.76041, -73.98552], [40.75999, -73.98453], [40.75991, -73.98434], [40.75985, -73.9842], [40.75977, -73.98426], [40.75955, -73.98442], [40.75952, -73.98444], [40.75926, -73.98461], [40.75923, -73.98463], [40.75942, -73.98509], [40.76018, -73.98692], [40.7604, -73.98745], [40.76066, -73.98727], [40.76118, -73.9869], [40.76138, -73.98676], [40.76212, -73.98623], [40.76354, -73.98519], [40.7648, -73.98429], [40.76605, -73.98337], [40.76569, -73.9825], [40.76548, -73.982], [40.7654, -73.98203], [40.76488, -73.98221], [40.76476, -73.98225], [40.76482, -73.9824], [40.76488, -73.98254], [40.76515, -73.98319], [40.76535, -73.98367], [40.76535, -73.98367], [40.76542, -73.98383], [40.76605, -73.98337], [40.76569, -73.9825], [40.76548, -73.982], [40.7654, -73.98203], [40.76488, -73.98221], [40.76438, -73.98238], [40.76405, -73.9825], [40.76303, -73.98308], [40.76277, -73.98323], [40.76272, -73.98325], [40.76266, -73.98309], [40.76236, -73.98238], [40.76211, -73.98177], [40.76187, -73.98119], [40.76164, -73.98065], [40.76132, -73.97992], [40.76119, -73.97959], [40.76116, -73.97951], [40.76132, -73.9794], [40.76179, -73.97905], [40.76187, -73.97927], [40.76249, -73.98075], [40.76255, -73.9809], [40.76255, -73.9809], [40.76339, -73.98288], [40.76417, -73.98474], [40.76493, -73.98419], [40.76673, -73.98287], [40.76732, -73.98246], [40.76761, -73.98222], [40.76772, -73.9821], [40.76771, -73.98207], [40.7677, -73.98201], [40.76769, -73.98189], [40.76771, -73.98172], [40.76777, -73.9816], [40.76787, -73.9815], [40.76804, -73.9814], [40.7681, -73.9814], [40.76821, -73.98143], [40.76835, -73.98155], [40.76839, -73.98167], [40.76857, -73.98197], [40.76863, -73.982], [40.76963, -73.98202], [40.77053, -73.98202], [40.77183, -73.98206], [40.7729, -73.98211], [40.77337, -73.98213], [40.77384, -73.98214], [40.77464, -73.98211], [40.77772, -73.98197], [40.77786, -73.98196], [40.77807, -73.98191], [40.77814, -73.9819], [40.77821, -73.98191], [40.77862, -73.98163], [40.77929, -73.98115], [40.78014, -73.98054], [40.78082, -73.98003], [40.78384, -73.97783], [40.78673, -73.97573], [40.78677, -73.9757], [40.78679, -73.97569], [40.78679, -73.97569], [40.78736, -73.97526], [40.78769, -73.97501], [40.7865, -73.97219], [40.78547, -73.97292], [40.78455, -73.9736], [40.78371, -73.97421], [40.78326, -73.97455], [40.78316, -73.97436], [40.78242, -73.9726], [40.78203, -73.97169], [40.78193, -73.97154], [40.78182, -73.97144], [40.7817, -73.97139], [40.78156, -73.97139], [40.78141, -73.97143], [40.78088, -73.97164], [40.78072, -73.97166], [40.78053, -73.97164], [40.78039, -73.97159], [40.78026, -73.97146], [40.77995, -73.97105], [40.77979, -73.97078], [40.77962, -73.97039], [40.77947, -73.96989], [40.77941, -73.96968], [40.77932, -73.96945], [40.77909, -73.96893], [40.77889, -73.96845], [40.77847, -73.96745], [40.77833, -73.96708], [40.77816, -73.96627], [40.77813, -73.96581], [40.77809, -73.9656], [40.77802, -73.96533], [40.7779, -73.96507], [40.77773, -73.96483], [40.77743, -73.96451], [40.77728, -73.96433], [40.77717, -73.96417], [40.77701, -73.96388], [40.7768, -73.96337], [40.7763, -73.96215], [40.77601, -73.96149], [40.77537, -73.95993], [40.77467, -73.95831], [40.77412, -73.95699], [40.77364, -73.95583], [40.77331, -73.95508], [40.77286, -73.95541], [40.77203, -73.95602], [40.77152, -73.9564], [40.77152, -73.9564], [40.77043, -73.95719], [40.77013, -73.95741], [40.77006, -73.95724], [40.76914, -73.95504], [40.7686, -73.95378], [40.76818, -73.9528], [40.76788, -73.95302], [40.76755, -73.95327], [40.76728, -73.95265], [40.76709, -73.95218], [40.76699, -73.95194], [40.76679, -73.9515], [40.76672, -73.95134], [40.76669, -73.95119], [40.76665, -73.95108], [40.76658, -73.95103], [40.76655, -73.95102], [40.76638, -73.95114], [40.76606, -73.95142], [40.76541, -73.95201], [40.76515, -73.95227], [40.76421, -73.9531], [40.76389, -73.95337], [40.7638, -73.95336], [40.76312, -73.95397], [40.76274, -73.95434], [40.76231, -73.9548], [40.76152, -73.95567], [40.76111, -73.95613], [40.76099, -73.9563], [40.76071, -73.95673], [40.76042, -73.95716], [40.76018, -73.9575], [40.7599, -73.9578], [40.75953, -73.95811], [40.75851, -73.95884], [40.75804, -73.95919], [40.7577, -73.95948], [40.7571, -73.96], [40.75664, -73.96037], [40.75612, -73.96076], [40.75594, -73.96092], [40.75583, -73.96105], [40.7556, -73.96136], [40.75522, -73.96187], [40.75506, -73.96206], [40.75482, -73.9623], [40.75453, -73.96255], [40.75426, -73.96278], [40.7539, -73.9631], [40.75336, -73.96357], [40.75277, -73.96417], [40.75196, -73.96493], [40.75175, -73.96513], [40.75036, -73.96628], [40.74803, -73.96819], [40.74688, -73.96915], [40.7461, -73.96995], [40.74559, -73.97046], [40.745, -73.97095], [40.74418, -73.97152], [40.74357, -73.97191], [40.74322, -73.97213], [40.74294, -73.97227], [40.74253, -73.97246], [40.74219, -73.97258], [40.74188, -73.97266], [40.74111, -73.97282], [40.74006, -73.97303], [40.73985, -73.97307], [40.73953, -73.97316], [40.73907, -73.97335], [40.73881, -73.97349], [40.73806, -73.97401], [40.73715, -73.97468], [40.7369, -73.97483], [40.73675, -73.9749], [40.73645, -73.975], [40.73612, -73.97506], [40.7358, -73.97506], [40.73533, -73.97495], [40.73346, -73.97448], [40.73204, -73.97412], [40.7317, -73.97402], [40.73144, -73.97392], [40.73118, -73.97377], [40.73092, -73.97356], [40.73066, -73.97329], [40.73033, -73.97288], [40.72997, -73.97245], [40.7297, -73.97221], [40.72933, -73.97197], [40.72901, -73.97185], [40.72869, -73.97178], [40.72848, -73.97177], [40.72794, -73.97183], [40.72686, -73.97198], [40.72638, -73.97212], [40.72603, -73.97227], [40.72564, -73.97248], [40.72533, -73.97266], [40.72464, -73.97309], [40.72368, -73.97371], [40.72289, -73.9742], [40.72249, -73.97441], [40.72213, -73.97455], [40.72174, -73.97464], [40.72016, -73.97483], [40.71863, -73.97502], [40.71784, -73.97519], [40.71735, -73.97534], [40.71682, -73.97555], [40.71591, -73.976], [40.71473, -73.97661], [40.71327, -73.97736], [40.71284, -73.97759], [40.71234, -73.97786], [40.71224, -73.97792], [40.71194, -73.97818], [40.71161, -73.97859], [40.71146, -73.97883], [40.71127, -73.97919], [40.71106, -73.97976], [40.71095, -73.98029], [40.71092, -73.98058], [40.71087, -73.98129], [40.71091, -73.98142], [40.71092, -73.98145], [40.71092, -73.98151], [40.71086, -73.9826], [40.71077, -73.98383], [40.71073, -73.98465], [40.7106, -73.98588], [40.71038, -73.98779], [40.71024, -73.98906], [40.71014, -73.98986], [40.71009, -73.98997], [40.70999, -73.99074], [40.7099, -73.99128], [40.70984, -73.99176], [40.71006, -73.99182], [40.71054, -73.9919], [40.71077, -73.99195], [40.71096, -73.99198], [40.71116, -73.99206], [40.71149, -73.99213], [40.71172, -73.99217], [40.71387, -73.99248], [40.7144, -73.99256], [40.71437, -73.99285], [40.71433, -73.99345], [40.7143, -73.99398], [40.71435, -73.99393], [40.71438, -73.9939], [40.7147, -73.99372], [40.71526, -73.99344], [40.71546, -73.99335], [40.71649, -73.99281], [40.71726, -73.99244]],\n",
              "                {&quot;bubblingMouseEvents&quot;: true, &quot;color&quot;: &quot;blue&quot;, &quot;dashArray&quot;: null, &quot;dashOffset&quot;: null, &quot;fill&quot;: false, &quot;fillColor&quot;: &quot;blue&quot;, &quot;fillOpacity&quot;: 0.2, &quot;fillRule&quot;: &quot;evenodd&quot;, &quot;lineCap&quot;: &quot;round&quot;, &quot;lineJoin&quot;: &quot;round&quot;, &quot;noClip&quot;: false, &quot;opacity&quot;: 1, &quot;smoothFactor&quot;: 1.0, &quot;stroke&quot;: true, &quot;weight&quot;: 2.5}\n",
              "            ).addTo(map_1e8a7a4bcdadc7d1d99cc7112679f05b);\n",
              "        \n",
              "&lt;/script&gt;\n",
              "&lt;/html&gt;\" style=\"position:absolute;width:100%;height:100%;left:0;top:0;border:none !important;\" allowfullscreen webkitallowfullscreen mozallowfullscreen></iframe></div></div>"
            ]
          },
          "metadata": {}
        }
      ]
    },
    {
      "cell_type": "markdown",
      "source": [
        "**Use GPT to generate plans for the arranged locations**"
      ],
      "metadata": {
        "id": "7z4opTFKqEQA"
      }
    },
    {
      "cell_type": "code",
      "source": [
        "optimized_locations"
      ],
      "metadata": {
        "colab": {
          "base_uri": "https://localhost:8080/"
        },
        "id": "uLw2cdRu0Vkw",
        "outputId": "a6e86aee-caeb-424e-b838-9607541b2523"
      },
      "execution_count": null,
      "outputs": [
        {
          "output_type": "execute_result",
          "data": {
            "text/plain": [
              "['Anytime Kitchen  (23 W 32nd St, Fl 3, New York, NY 10001)',\n",
              " 'S&P (174 5th Ave, New York, NY 10010)',\n",
              " 'Trattoria Trecolori (254 West 47th St, New York, NY 10036)',\n",
              " 'R Lounge at Two Times Square (Two Times Square, 714 Seventh Avenue at W. 48th Street, New York, NY 10036)',\n",
              " 'Spyscape (928 8th Ave, New York, NY 10019)',\n",
              " 'La Grande Boucherie (145 W 53rd St, New York, NY 10019)',\n",
              " \"Jacob's Pickles (509 Amsterdam Ave, New York, NY 10024)\",\n",
              " \"e's BAR (511 Amsterdam Ave, New York, NY 10024)\",\n",
              " 'U and Me Nails (1465 2nd Ave, New York, NY 10075)',\n",
              " 'S Wan Cafe 洋紫荆 (85 Eldridge St Lower E, New York, NY 10002)']"
            ]
          },
          "metadata": {},
          "execution_count": 12
        }
      ]
    },
    {
      "cell_type": "code",
      "source": [
        "import openai\n",
        "\n",
        "def generate_plan(locations, budget, days, interest):\n",
        "    \"\"\"\n",
        "    Generate a detailed travel plan based on a list of locations, budget, days, and interest using OpenAI's GPT-4 API.\n",
        "    :param locations: List of locations for the travel plan\n",
        "    :param budget: Budget for the trip\n",
        "    :param days: Number of days of the trip\n",
        "    :param interest: Specific interests for the trip\n",
        "    :return: Generated travel plan\n",
        "    \"\"\"\n",
        "    openai.api_key = \"YOUR_OWN_API\"\n",
        "\n",
        "    # Build messages for the chat completion request\n",
        "    messages = [\n",
        "        {\"role\": \"system\", \"content\": \"You are a helpful assistant designed to generate a travel plan in plain text format.\"},\n",
        "        {\"role\": \"user\", \"content\": f\"Create a detailed, budget-conscious travel plan based on the following ordered locations: {', '.join(optimized_locations)}. Budget: {budget}, Days: {days}, Interest: {interest}. The plan should include daily activities: Breakfast, Morning Attraction, Lunch, Afternoon Attraction, Dinner, Hotel and Accommodation. Calculate total daily expenses and ensure they do not exceed the allocated daily budget.\"}\n",
        "    ]\n",
        "\n",
        "    # Invoke the OpenAI API\n",
        "    response = openai.ChatCompletion.create(\n",
        "        model=\"gpt-4-1106-preview\",  # Using GPT-4 preview model\n",
        "        messages=messages\n",
        "    )\n",
        "\n",
        "    # Extract the generated text\n",
        "    generated_text = response['choices'][0]['message']['content']\n",
        "\n",
        "    return generated_text\n",
        "\n",
        "plan = generate_plan(optimized_locations, budget, days, interests)\n",
        "print(plan)\n"
      ],
      "metadata": {
        "colab": {
          "base_uri": "https://localhost:8080/"
        },
        "id": "Tab8iTGEFZce",
        "outputId": "e6e5e073-f693-4acf-9e16-7c7b6807faa5"
      },
      "execution_count": null,
      "outputs": [
        {
          "output_type": "stream",
          "name": "stdout",
          "text": [
            "To create a travel plan that includes daily activities such as Breakfast, Morning Attraction, Lunch, Afternoon Attraction, Dinner, and Hotel and Accommodation, I will assume that your interest in 'Restaurant' implies a focus on culinary experiences. I will make conservative estimates for the costs based on moderate pricing and look for accommodation within a reasonable range to the points of interest.\n",
            "\n",
            "Here's a budget-conscious, five-day travel plan in New York City:\n",
            "\n",
            "**Day 1:**\n",
            "- **Breakfast:** Anytime Kitchen (estimated cost: $15)\n",
            "- **Morning Attraction:** Explore the Empire State Building (admission is around $44; however, if we skip to keep expenses low).\n",
            "- **Lunch:** S&P (estimated cost: $20)\n",
            "- **Afternoon Attraction:** Take a stroll in the Madison Square Park (free).\n",
            "- **Dinner:** Trattoria Trecolori (estimated cost: $30)\n",
            "- **Hotel:** Pod Times Square Hotel (budget option near attractions, approximately $150 per night including taxes).\n",
            "- **Total Expenses for Day 1:** $259\n",
            "\n",
            "**Day 2:**\n",
            "- **Breakfast:** Hotel continental breakfast included with stay (estimated cost: $0)\n",
            "- **Morning Attraction:** Explore Times Square (free).\n",
            "- **Lunch:** R Lounge at Two Times Square (estimated cost: $25)\n",
            "- **Afternoon Attraction:** Walk to Bryant Park and New York Public Library (free).\n",
            "- **Dinner:** Spyscape (Visit is the attraction, estimated ticket cost: $40; Dinner not at Spyscape due to budget, choose a local deli, estimated cost: $15)\n",
            "- **Hotel:** Pod Times Square Hotel (approximately $150)\n",
            "- **Total Expenses for Day 2:** $230\n",
            "\n",
            "**Day 3:**\n",
            "- **Breakfast:** Hotel continental breakfast included with stay (estimated cost: $0)\n",
            "- **Morning Attraction:** Enjoy Central Park (free).\n",
            "- **Lunch:** La Grande Boucherie (estimated cost: $30)\n",
            "- **Afternoon Attraction:** Visit MoMA; if within budget (admission around $25), otherwise, walk around the 5th Ave shops (window shopping is free).\n",
            "- **Dinner:** Jacob's Pickles (estimated cost: $30)\n",
            "- **Hotel:** Pod Times Square Hotel (approximately $150)\n",
            "- **Total Expenses for Day 3:** $235\n",
            "\n",
            "**Day 4:**\n",
            "- **Breakfast:** Hotel continental breakfast included with stay (estimated cost: $0)\n",
            "- **Morning Attraction:** Walk along the Hudson River (free).\n",
            "- **Lunch:** e's BAR (Next to Jacob's Pickles, estimated cost: $20)\n",
            "- **Afternoon Attraction:** Relax at the Riverside Park (free).\n",
            "- **Dinner:** U and Me Nails is not a restaurant, but there's Uva nearby (estimated dinner at Uva: $30)\n",
            "- **Hotel:** Pod Times Square Hotel (approximately $150)\n",
            "- **Total Expenses for Day 4:** $200\n",
            "\n",
            "**Day 5:**\n",
            "- **Breakfast:** Hotel continental breakfast included with stay (estimated cost: $0)\n",
            "- **Morning Attraction:** Visit The Metropolitan Museum of Art; if within budget (suggested admission: $25)\n",
            "- **Lunch:** S Wan Cafe 洋紫荆 (estimated cost: $15)\n",
            "- **Afternoon Attraction:** Walk the Brooklyn Bridge (free).\n",
            "- **Dinner:** Select a budget-friendly option in Chinatown or Little Italy (estimated cost: $20)\n",
            "- **Accommodation:** Since it's the last day, no hotel needed if you are leaving at night; otherwise, Pod Times Square Hotel (approximately $150)\n",
            "- **Total Expenses for Day 5:** $210 (or $60 without hotel)\n",
            "\n",
            "**Grand Total Expenses:** $1134 (or $984 without the last night hotel stay)\n",
            "\n",
            "Since this proposed itinerary goes slightly over the budget if you stay at the hotel on the last day, consider either finding a cheaper hotel or reducing costs in dining or identify a free attraction substituting the paid ones.\n",
            "\n",
            "Please note that these are estimated costs and actual prices can vary based on the time of booking, special deals, or changes in menu prices. Also, transportation costs between these locations are not included, assuming the use of walking or the MTA subway system, for which a 7-day unlimited pass costs $33 which fits within the budget.\n",
            "\n",
            "If you require a precise arrangement within the $1000 USD budget, we would need to make adjustments, like choosing more budget-friendly dining options, or opting for cheaper accommodation.\n"
          ]
        }
      ]
    }
  ]
}